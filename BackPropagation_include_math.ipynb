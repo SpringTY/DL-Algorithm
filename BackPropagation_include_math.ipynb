{
 "cells": [
  {
   "cell_type": "markdown",
   "metadata": {},
   "source": [
    "### 矩阵定义\n",
    "$$\n",
    "X=\\left[\n",
    " \\begin{matrix}\n",
    "   x_{1} & x_{2} & x_{3} \\\\\n",
    "  \\end{matrix} \n",
    "\\right], \n",
    "W=\\left[\n",
    " \\begin{matrix}\n",
    "   w_{11} & w_{12} \\\\\n",
    "   w_{21} & w_{22} \\\\\n",
    "   w_{31} & w_{32} \\\\\n",
    "  \\end{matrix} \n",
    "\\right], \n",
    "B=\\left[\n",
    " \\begin{matrix}\n",
    "   b_{1} & b_{2} \\\\\n",
    "  \\end{matrix} \n",
    "\\right], \n",
    "Y=\\left[\n",
    " \\begin{matrix}\n",
    "   y_{1} & y_{2} \\\\\n",
    "  \\end{matrix} \n",
    "\\right],\n",
    "Z=\\left[\n",
    " \\begin{matrix}\n",
    "   z_{1} & z_{2} \\\\\n",
    "  \\end{matrix} \n",
    "\\right]\n",
    "$$"
   ]
  },
  {
   "cell_type": "markdown",
   "metadata": {},
   "source": [
    "### 前向传播\n",
    "\n",
    "$$\n",
    "  y_{1} = x_{1}*w_{11} + x_{2}*w_{21} + x_{3}*w_{31} + b_{1}\n",
    "$$\n",
    "\n",
    "$$\n",
    "  y_{2} = x_{1}*w_{12} + x_{2}*w_{22} + x_{3}*w_{32} + b_{2}\n",
    "$$\n",
    "\n",
    "$$\n",
    "  z_{1} = sigmoid(y_{1})\n",
    "$$\n",
    "\n",
    "$$\n",
    "  z_{2} = sigmoid(y_{2})\n",
    "$$\n",
    "\n",
    "$$ \n",
    "Y = X*W + B =\\left[\n",
    " \\begin{matrix}\n",
    "   x_{1} & x_{2} & x_{3} \\\\\n",
    "  \\end{matrix} \n",
    "\\right]*\n",
    "\\left[\n",
    " \\begin{matrix}\n",
    "   w_{11} & w_{12}  \\\\\n",
    "   w_{21} & w_{22}  \\\\\n",
    "   w_{31} & w_{32}  \\\\\n",
    "  \\end{matrix} \n",
    "\\right]+\n",
    "\\left[\n",
    " \\begin{matrix}\n",
    "   b_{1} & b_{2} \\\\\n",
    "  \\end{matrix} \n",
    "\\right]\n",
    "=\n",
    "\\left[\n",
    " \\begin{matrix}\n",
    "   y_{1} & y_{2} \\\\\n",
    "  \\end{matrix} \n",
    "\\right]\n",
    "$$\n",
    "\n",
    "$$\n",
    "Z = sigmoid(Y)\n",
    "$$\n",
    "\n",
    "$$\n",
    "  如果Z不是输出层，那么Z是下一层的输入(X) ，而且如果Z是输出层，一般不激活(直接输出Y)，或者理解为(Z=Y)\n",
    "$$"
   ]
  },
  {
   "cell_type": "markdown",
   "metadata": {},
   "source": [
    "$$\n",
    "  用一个损失函数评价和标准值的距离，我们希望距离越小越好\n",
    "$$\n",
    "\n",
    "$$\n",
    "   损失函数 (MSE)\\ \\ \\  loss = \\sum_{i=1}^{n} \\frac{ ( out_{i} - label_{i} )^ {2}}{2}\n",
    "$$\n",
    "\n",
    "可以理解为下面这个向量求和\n",
    "\n",
    "$$\n",
    "\\left[\n",
    " \\begin{matrix}\n",
    "   loss_{1} & loss_{2} & \\ ... \\  & loss_{n}\\\\\n",
    "  \\end{matrix} \n",
    "\\right]\n",
    "=\\left[\n",
    " \\begin{matrix}\n",
    "   out_{1} - label_{1} & out_{2} - label_{2} & \\ ... \\  & out_{n} - label_{n}\\\\\n",
    "  \\end{matrix} \n",
    "\\right]\n",
    "$$"
   ]
  },
  {
   "cell_type": "markdown",
   "metadata": {},
   "source": [
    "### 反向传播思路\n",
    "\n",
    "\n",
    "$$\n",
    "目标求解每一层的 \\frac {\\partial loss}{\\partial w} 和 \\frac {\\partial loss}{\\partial b}\n",
    "$$\n",
    "\n",
    "$$\n",
    "迭代\\ \\ w - lr *\\frac {\\partial loss}{\\partial w}\\ \\ \\ 和 \\ \\ \\ b - lr * \\frac {\\partial loss}{\\partial b}\n",
    "$$\n",
    "\n",
    "$$\n",
    "达到减少loss的效果\n",
    "$$\n",
    "\n"
   ]
  },
  {
   "cell_type": "markdown",
   "metadata": {},
   "source": [
    "$$\n",
    "    \\frac {\\partial loss}{\\partial w_{ij}}= \\frac {\\partial loss}{\\partial z_{j}} * \\frac {\\partial z_{j}}{\\partial y_{j}} * \\frac {\\partial y_{j}}{\\partial w_{ij}}   \n",
    "$$\n",
    "\n",
    "$$  \\frac {\\partial loss}{\\partial b_{j}}=\\frac {\\partial loss}{\\partial z_{j}} * \\frac {\\partial z_{j}}{\\partial y_{j}} * \\frac {\\partial y_{j}}{\\partial b_{j}}\n",
    "$$\n",
    "\n",
    "$$   \\frac {\\partial loss}{\\partial z^{-1}_{j}} = \\frac {\\partial loss}{\\partial z_{j}} * \\frac {\\partial z_{j}}{\\partial y_{j}} * \\frac {\\partial y_{j}}{\\partial z^{-1}_{j}}\n",
    "$$\n",
    "\n",
    "$$\n",
    "    z^{-1}_{j} 代表前一层的输出，即为这一层输入 x_{j}，然后继续可以对前一层的误差进行求w，b，和前前一层的误差\n",
    "$$\n",
    "$$\n",
    "    不激活时,可以看做 z = y \\ \\ 那么 \\frac {\\partial z_{j}}{\\partial y_{j}} = 1\n",
    "$$"
   ]
  },
  {
   "cell_type": "markdown",
   "metadata": {},
   "source": [
    "### 反向传播中的标量形式\n",
    "$$\n",
    "    我们回顾一下， loss =  \\sum_{i=1}^{n} \\frac{ ( out_{i} - label_{i} )^ {2}}{2} = \\sum_{i=1}^{n} \\frac{ ( z_{i} - label_{i} )^ {2}}{2}\n",
    "$$\n",
    "\n",
    "$$\n",
    "    \\frac {\\partial loss} {\\partial z_{j}} = \\ z_{j} - label_{j} \\\n",
    "$$\n",
    "\n",
    "$$\n",
    "    不激活的情况下 \\frac {\\partial z_{j}}{\\partial y_{j}} = 1\n",
    "$$\n",
    "\n",
    "$$\n",
    "    用sigmoid激活的情况下\\frac {\\partial z_{j}}{\\partial y_{j}} = (\\  1 - sigmoid(y_{j}) \\ ) * sigmoid(\\ y_{j}\\ )\n",
    "$$\n",
    "\n",
    "$$\n",
    "    这里说明一下 函数 \\ f(x) = sigmoid(x) \\ 的导数为 \\ \\frac{\\partial f(x)}{\\partial x} = sigmoid(x) * ( 1 - sigmoid(x))\n",
    "$$\n",
    "\n",
    "$$\n",
    "    这样(以sigmoid激活为例子) \\frac {\\partial loss}{\\partial z_{j}} * \\frac {\\partial z_{j}}{\\partial y_{j}} = (\\ z_{j} - label_{j} \\ ) * sigmoid(z_{j}) * ( 1 - sigmoid(z_{j}))\n",
    "$$\n"
   ]
  },
  {
   "cell_type": "markdown",
   "metadata": {},
   "source": [
    "#### weight 和 bias 标量形式推导\n",
    "$$若计算\\ \\frac {\\partial loss}{\\partial w_{ij}}= \\frac {\\partial loss}{\\partial z_{j}} * \\frac {\\partial z_{j}}{\\partial y_{j}} * \\frac {\\partial y_{j}}{\\partial w_{ij}} ,只需求\\frac {\\partial y_{j}}{\\partial w_{ij}}   $$\n",
    "\n",
    "$$ 若计算 \\frac {\\partial loss}{\\partial b_{j}}=\\frac {\\partial loss}{\\partial z_{j}} * \\frac {\\partial z_{j}}{\\partial y_{j}} * \\frac {\\partial y_{j}}{\\partial b_{j}} ,只需求\\frac {\\partial y_{j}}{\\partial b_{j}}\n",
    "$$\n",
    "以上面为例\n",
    "\n",
    "$$ y_{1} = x_{1}*w_{11} + x_{2}*w_{21} + x_{3}*w_{31} + b_{1}\n",
    "$$\n",
    "\n",
    "得到一般的算式\n",
    "\n",
    "$$ y_{j} = x_{1}*w_{1j} + x_{2}*w_{2j}\\ +\\ ...\\ +\\ x_{i}*w_{ij}\\ +\\ ...\\ +\\ x_{n}*w_{nj} + b_{j}\n",
    "$$\n",
    "\n",
    "我们可以一并得到\n",
    "\n",
    "$$\n",
    "    \\frac {\\partial y_{j}}{\\partial w_{ij}} = x_{i}\n",
    "$$\n",
    "\n",
    "$$\n",
    "    \\frac {\\partial y_{j}}{\\partial b_{j}} = 1\n",
    "$$\n",
    "所以得出\n",
    "$$\n",
    "\\frac {\\partial loss}{\\partial w_{ij}}= \\frac {\\partial loss}{\\partial z_{j}} * \\frac {\\partial z_{j}}{\\partial y_{j}} * \\frac {\\partial y_{j}}{\\partial w_{ij}} = (\\ z_{j} - label_{j} \\ ) * sigmoid(z_{j}) * ( 1 - sigmoid(z_{j})) * x_{i}\\ \\ \\ \\ [1]\n",
    "$$\n",
    "\n",
    "$$\n",
    "\\frac {\\partial loss}{\\partial b_{j}}= \\frac {\\partial loss}{\\partial z_{j}} * \\frac {\\partial z_{j}}{\\partial y_{j}} * \\frac {\\partial y_{j}}{\\partial b_{j}} = (\\ z_{j} - label_{j} \\ ) * sigmoid(z_{j}) * ( 1 - sigmoid(z_{j})) * 1 \\ \\ \\ \\ \\ [2]\n",
    "$$\n",
    "\n",
    "\n"
   ]
  },
  {
   "cell_type": "markdown",
   "metadata": {},
   "source": [
    "#### 前一层误差推导\n",
    "\n",
    "$$\n",
    "这里推导 \\frac{\\partial loss}{\\partial z^{-1}_{j} } = \\frac{\\partial loss}{\\partial x_{j}} 其中前一层的输出就是这一层的输入\n",
    "$$\n",
    "\n",
    "$$\n",
    "loss = \\sum_{i=1}^{n} \\frac{ ( out_{i} - label_{i} )^ {2}}{2} = \\sum_{i=1}^{n} \\frac{ ( z_{i} - label_{i} )^ {2}}{2} \n",
    "$$\n",
    "\n",
    "从刚才的正项传播:\n",
    "$$\n",
    "  y_{1} = x_{1}*w_{11} + x_{2}*w_{21} + x_{3}*w_{31} + b_{1}\n",
    "$$\n",
    "\n",
    "$$\n",
    "  y_{2} = x_{1}*w_{12} + x_{2}*w_{22} + x_{3}*w_{32} + b_{2}\n",
    "$$\n",
    "\n",
    "$$\n",
    "可以发现x_{i} 和 \\ y_{j} ,\\ j \\in 1,\\ 2,\\ 3,\\ ... \\ ,n\\ \\ 有关, \\ 就是和y中每一项有关\n",
    "$$\n",
    "\n",
    "$$\n",
    "与上边weight 与bias不同,\n",
    "weight 和 bias 仅与y中某一项有关 \n",
    "$$\n",
    "\n",
    "$$\n",
    "y到z是单射函数,所以x_{i} 和 \\ z_{j}\\  ,j \\in 1,\\ 2,\\ 3,\\ ... \\ ,n\\ \\ 有关,\n",
    "$$\n",
    "\n",
    "$$如果计算 \\ \\frac {\\partial loss}{\\partial z^{-1}_{j}}=\\frac {\\partial loss}{\\partial z_{j}} * \\frac {\\partial z_{j}}{\\partial y_{j}} * \\frac {\\partial y_{j}}{\\partial z^{-1}_{j}} 则需要计算\\ \\frac {\\partial y_{j}}{\\partial z^{-1}_{j}}\n",
    "$$\n",
    "求和\n",
    "$$\n",
    " 注意，这里的 z^{-1}_{j} 就相当于这一层的 x_{j}\n",
    "$$"
   ]
  },
  {
   "cell_type": "markdown",
   "metadata": {},
   "source": [
    "所以得到\n",
    "\n",
    "$$\n",
    "\\frac {\\partial loss}{\\partial z_{j}^{-1}}= \\sum_{i=1}^{n} \\frac {\\partial loss}{\\partial z_{i}} * \\frac {\\partial z_{i}}{\\partial y_{i}} * \\frac {\\partial y_{i}}{\\partial z_{j}^{-1}} = \\sum_{i=1}^{n} \\frac {\\partial loss}{\\partial z_{i}} * \\frac {\\partial z_{i}}{\\partial y_{i}} * \\frac {\\partial y_{i}}{\\partial x_{j}} \n",
    "$$"
   ]
  },
  {
   "cell_type": "markdown",
   "metadata": {},
   "source": [
    "得到一般的算式\n",
    "$$\n",
    " y_{i} = x_{1}*w_{1i} + x_{2}*w_{2i}\\ +\\ ...\\ +\\ x_{j}*w_{ji}\\ +\\ ...\\ +\\ x_{m}*w_{mi} + b_{i}\n",
    "$$\n",
    "\n",
    "$$\n",
    "\\frac {\\partial y_{i}}{\\partial z^{-1}_{j}} = w_{ji}\n",
    "$$\n"
   ]
  },
  {
   "cell_type": "markdown",
   "metadata": {},
   "source": [
    "$$\n",
    "\\frac {\\partial loss}{\\partial z_{j}^{-1}}= \\sum_{i=1}^{n} \\frac {\\partial loss}{\\partial z_{i}} * \\frac {\\partial z_{i}}{\\partial y_{i}} * \\frac {\\partial y_{i}}{\\partial z_{j}^{-1}} = \\sum_{i=1}^{n} \\frac {\\partial loss}{\\partial z_{i}} * \\frac {\\partial z_{i}}{\\partial y_{i}} * \\frac {\\partial y_{i}}{\\partial x_{j}} = \\sum_{i=1}^{n} (\\ z_{i} - label_{i} \\ ) * sigmoid(z_{i}) * ( 1 - sigmoid(z_{i})) * w_{ji}\\ \\ \\ \\ [3]\n",
    "$$"
   ]
  },
  {
   "cell_type": "markdown",
   "metadata": {},
   "source": [
    "### 矩阵形式的梯度\n",
    "我们转换为矩阵形式，我们一开始定义的矩阵如下:\n",
    "$$\n",
    "X=\\left[\n",
    " \\begin{matrix}\n",
    "   x_{1} & x_{2} & x_{3} \\\\\n",
    "  \\end{matrix} \n",
    "\\right], \n",
    "W=\\left[\n",
    " \\begin{matrix}\n",
    "   w_{11} & w_{12} \\\\\n",
    "   w_{21} & w_{22} \\\\\n",
    "   w_{31} & w_{32} \\\\\n",
    "  \\end{matrix} \n",
    "\\right], \n",
    "B=\\left[\n",
    " \\begin{matrix}\n",
    "   b_{1} & b_{2} \\\\\n",
    "  \\end{matrix} \n",
    "\\right], \n",
    "Y=\\left[\n",
    " \\begin{matrix}\n",
    "   y_{1} & y_{2} \\\\\n",
    "  \\end{matrix} \n",
    "\\right],\n",
    "Z=\\left[\n",
    " \\begin{matrix}\n",
    "   z_{1} & z_{2} \\\\\n",
    "  \\end{matrix} \n",
    "\\right]\n",
    "$$"
   ]
  },
  {
   "cell_type": "markdown",
   "metadata": {},
   "source": [
    "$$Y\\ =\\ XW \\ + B \n",
    "$$\n",
    "\n",
    "$$\n",
    "Z = sigmoid(Y)\n",
    "$$\n",
    "\n",
    "$$\n",
    "\\frac {\\partial loss}{\\partial Z} =\\ Z - Label \\ = \n",
    "\\left[\n",
    " \\begin{matrix}\n",
    "   z_{1} - label_{1} & z_{2} - label_{2}\\\\\n",
    "  \\end{matrix} \n",
    "\\right]\n",
    "$$"
   ]
  },
  {
   "cell_type": "markdown",
   "metadata": {},
   "source": [
    "$$\n",
    "\\frac {\\partial z_{j}}{\\partial y_{j}} = sigmoid(Y) * ( 1\\ -\\ sigmoid(Y)) \\ \\ \\ \\ * 为点乘(对应元素相乘)\n",
    "$$"
   ]
  },
  {
   "cell_type": "markdown",
   "metadata": {},
   "source": [
    "$$\n",
    "\\frac {\\partial loss}{\\partial W}=  X^{T}\\ @\\ \\frac {\\partial loss}{\\partial Z} * \\frac {\\partial Z}{\\partial Y} * \\frac {\\partial Y}{\\partial W} = (\\ Z - Label \\ ) * sigmoid(Z) * ( 1 - sigmoid(Z)) \\ \\ \\ \\ [4]  \\ \\ \\ \\ @ \\ 为矩阵乘法\n",
    "$$"
   ]
  },
  {
   "cell_type": "markdown",
   "metadata": {},
   "source": [
    "$$\\frac {\\partial loss}{\\partial B}= \\frac {\\partial loss}{\\partial Z} * \\frac {\\partial Z}{\\partial Y} * \\frac {\\partial Y}{\\partial B} = (\\ Z - Label \\ ) * sigmoid(Z) * ( 1 - sigmoid(Z)) \\ \\ \\ \\  [5]$$\n",
    "\n",
    "$$\n",
    "\\frac {\\partial loss}{\\partial X}= \\frac {\\partial loss}{\\partial Z} * \\frac {\\partial Z}{\\partial Y} * \\frac {\\partial Y}{\\partial B} = (\\ Z - Label \\ ) * sigmoid(Z) * ( 1 - sigmoid(Z)) \\ @\\ W^{T}  \\ \\ \\ \\  [6]\n",
    "$$"
   ]
  },
  {
   "cell_type": "markdown",
   "metadata": {},
   "source": [
    "### 推导 [4] 的细节\n",
    "[4]式是由$\\ [1]\\ 式$得出\n",
    "\n",
    "$$ 不妨设 A =\\frac {\\partial loss}{\\partial Z} * \\frac {\\partial Z}{\\partial Y}= (\\ Z - Label \\ ) * sigmoid(Z) * ( 1 - sigmoid(Z))$$\n",
    "由[1]可以得出\n",
    "\n",
    "$$\n",
    "\\left[\n",
    " \\begin{matrix}\n",
    "   \\frac{\\partial loss}{\\partial w_{11}} & \\frac{\\partial loss}{\\partial w_{12}}  & \\ ... \\  & \\frac{\\partial loss}{\\partial w_{1n}}\\\\\n",
    "   \\frac{\\partial loss}{\\partial w_{21}} & \\frac{\\partial loss}{\\partial w_{22}}  & \\ ... \\  & \\frac{\\partial loss} {\\partial w_{2n}}\\\\\n",
    "   ... \\  & ... \\   & \\ ... \\  & ...  \\\\\n",
    "   \\frac{\\partial loss}{\\partial w_{m1}} & \\frac{\\partial loss}{\\partial w_{m2}}  & \\ ... \\  & \\frac{\\partial loss} {\\partial w_{mn}}\\\\\n",
    "  \\end{matrix} \n",
    "\\right]=\n",
    "\\left[\n",
    " \\begin{matrix}\n",
    "   x_{1}*a_{1} & x_{1}*a_{2}  & \\ ... \\  & x_{1}*a_{n}\\\\\n",
    "   x_{2}*a_{1} & x_{2}*a_{2}  & \\ ... \\  & x_{2}*a_{n}\\\\\n",
    "   ... \\  & ... \\   & \\ ... \\  & ...  \\\\\n",
    "    x_{m}*a_{1} & x_{m}*a_{2}  & \\ ... \\  & x_{m}*a_{n}\\\\\n",
    "  \\end{matrix} \n",
    "\\right]\n",
    "=\n",
    "\\left[\n",
    " \\begin{matrix}\n",
    "   x_{1} \\\\\n",
    "   x_{2} \\\\\n",
    "   ... \\\\\n",
    "    x_{m}\\\\\n",
    "  \\end{matrix} \n",
    "\\right]\n",
    "\\left[\n",
    " \\begin{matrix}\n",
    "   a_{1} & a_{2}  & \\ ... \\  & a_{n}\\\\\n",
    "  \\end{matrix} \n",
    "\\right]\n",
    "$$\n"
   ]
  },
  {
   "cell_type": "markdown",
   "metadata": {},
   "source": [
    "即为\n",
    "$$\n",
    " \\frac {\\partial loss}{\\partial W}= X^{t} @ A\n",
    "$$\n",
    "[4]公式成立"
   ]
  },
  {
   "cell_type": "markdown",
   "metadata": {},
   "source": [
    "### 推导 [6] 的细节\n",
    "[6]式是由  [3] 式 得出\n",
    "$$ 不妨设 A =\\frac {\\partial loss}{\\partial Z} * \\frac {\\partial Z}{\\partial Y}= (\\ Z - Label \\ ) * sigmoid(Z) * ( 1 - sigmoid(Z))$$"
   ]
  },
  {
   "cell_type": "markdown",
   "metadata": {},
   "source": [
    "$$\n",
    "\\left[\n",
    " \\begin{matrix}\n",
    "   \\frac{\\partial loss}{\\partial x_{1}} & \\frac{\\partial loss}{\\partial x_{2}}  & \\ ... \\  & \\frac{\\partial loss}{\\partial x_{m}}\\\\\n",
    "  \\end{matrix} \n",
    "\\right]=\n",
    "\\left[\n",
    " \\begin{matrix}\n",
    "   w_{11}*a_{1} + w_{12}*a_{2}  +  ... + x_{1n}*a_{n} & ... & w_{m1}*a_{1} + w_{m2}*a_{2}  +  ...   + w_{mn}*a_{n} \\\\\n",
    "  \\end{matrix} \n",
    "\\right]\n",
    "=\n",
    "\\left[\n",
    " \\begin{matrix}\n",
    "   a_{1} &\n",
    "   a_{2}  &\n",
    "   ...  &\n",
    "    a_{n}\\\\\n",
    "  \\end{matrix} \n",
    "\\right]\n",
    "\\left[\n",
    " \\begin{matrix}\n",
    "   w_{11} & w_{21}  & \\ ... \\  & w_{m1}\\\\\n",
    "   w_{12} & w_{22}  & \\ ... \\  & w_{m2}\\\\\n",
    "    ... &  ... &  ... & ... \\\\\n",
    "   w_{1n} & w_{2n}  & \\ ... \\  & w_{mn}\\\\\n",
    "  \\end{matrix} \n",
    "\\right]\n",
    "$$"
   ]
  },
  {
   "cell_type": "markdown",
   "metadata": {},
   "source": [
    "即为\n",
    "$$\n",
    " \\frac {\\partial loss}{\\partial X}= A\\  @\\ W^{T}\n",
    "$$\n",
    "[6]公式成立"
   ]
  },
  {
   "cell_type": "markdown",
   "metadata": {},
   "source": [
    "### 代码实现\n",
    "\n",
    "注意本代码反向传播中，提到的未激活的误差(error_next_layer_before_active)指A\n",
    "\n",
    "$$\n",
    "A =\\frac {\\partial loss}{\\partial Z} * \\frac {\\partial Z}{\\partial Y}\n",
    "$$\n",
    "### 核心函数如下\n",
    "\n",
    "\n"
   ]
  },
  {
   "cell_type": "code",
   "execution_count": null,
   "metadata": {},
   "outputs": [],
   "source": [
    "def backward_layer(pre_layer_after_active,error_next_layer_before_active,weight,bias,batch,lr,debug=False):\n",
    "    bias_gradient = np.sum(error_next_layer_before_active,axis=0)/batch\n",
    "    error_pre_layer_before_active = error_next_layer_before_active @ weight.T\n",
    "    weight_step = weight - weight_gradient * lr\n",
    "    bias_step = bias - bias_gradient * lr\n",
    "    return weight_step,bias_step,error_pre_layer_before_active\n",
    "\n",
    "def get_before_active(forward_before_active,error_after):\n",
    "    return sigmoid_grad(forward_before_active) * error_after\n",
    "\n",
    "def backward_layer_and_get_before_active(forward_pre_layer_before_active,\n",
    "                                         forward_pre_layer_after_active,\n",
    "                                         backward_error_next_layer_before_active, weight, bias, batch, lr,debug=False):\n",
    "    w,b,ep=backward_layer(forward_pre_layer_after_active, backward_error_next_layer_before_active, weight, bias, batch, lr,debug)\n",
    "    return w,b,get_before_active(forward_pre_layer_before_active,ep)\n"
   ]
  },
  {
   "cell_type": "markdown",
   "metadata": {},
   "source": [
    "# 完整代码"
   ]
  },
  {
   "cell_type": "code",
   "execution_count": 145,
   "metadata": {},
   "outputs": [],
   "source": [
    "import numpy as np\n",
    "import matplotlib.pyplot as plt\n",
    "\n",
    "\n",
    "def sigmoid(x_):\n",
    "    return 1 / (1 + np.exp(-x_))\n",
    "\n",
    "\n",
    "def sigmoid_grad(x_):\n",
    "    return (1.0 - sigmoid(x_)) * sigmoid(x_)\n",
    "#pre_layer_after_active  前向传播激活后\n",
    "#error_next_layer_before_active 反向传播激活前（已经进入过激活层了）\n",
    "def backward_layer(pre_layer_after_active,error_next_layer_before_active,weight,bias,batch,lr,debug=False):\n",
    "    if debug :\n",
    "        print(\"pre_layer_after_active\",pre_layer_after_active.shape)\n",
    "        print(\"error_next_layer_before_active\",error_next_layer_before_active.shape)\n",
    "    weight_gradient = pre_layer_after_active.T @ error_next_layer_before_active\n",
    "    bias_gradient = np.sum(error_next_layer_before_active,axis=0)/batch\n",
    "    error_pre_layer_before_active = error_next_layer_before_active @ weight.T\n",
    "    weight_step = weight - weight_gradient * lr\n",
    "    bias_step = bias - bias_gradient * lr\n",
    "    return weight_step,bias_step,error_pre_layer_before_active\n",
    "\n",
    "def get_before_active(forward_before_active,error_after):\n",
    "    return sigmoid_grad(forward_before_active) * error_after\n",
    "\n",
    "def backward_layer_and_get_before_active(forward_pre_layer_before_active,\n",
    "                                         forward_pre_layer_after_active,\n",
    "                                         backward_error_next_layer_before_active, weight, bias, batch, lr,debug=False):\n",
    "    w,b,ep=backward_layer(forward_pre_layer_after_active, backward_error_next_layer_before_active, weight, bias, batch, lr,debug)\n",
    "    return w,b,get_before_active(forward_pre_layer_before_active,ep)\n",
    "\n",
    "class BP:\n",
    "    def __init__(self, input_size, hidden_size, output_size, hidden_cnt,batcH_size=100,learn_rate=0.02):\n",
    "        self.in_layer = None\n",
    "        self.hidden_layer_before_active = None\n",
    "        self.hidden_layer = None\n",
    "        self.out_layer = None\n",
    "        self.batch_size = None\n",
    "        self.hidden_cnt = hidden_cnt\n",
    "        self.weight_in_hid = np.random.rand(input_size, hidden_size)\n",
    "        self.bias_hid = np.random.rand(hidden_size)\n",
    "        self.hidden_mid_before_active = []\n",
    "        self.hidden_mid_after_active = []\n",
    "        self.hidden_mid_weight = np.random.rand(hidden_cnt,hidden_size, hidden_size)\n",
    "        self.hidden_mid_bias = np.random.rand(hidden_cnt,hidden_size)\n",
    "        self.weight_hid_out = np.random.rand(hidden_size, output_size)\n",
    "        self.bias_out = np.random.rand(output_size)\n",
    "        self.learn_rate = learn_rate\n",
    "\n",
    "    def forward(self, data):\n",
    "        self.hidden_mid_before_active = []\n",
    "        self.hidden_mid_after_active = []\n",
    "        for i in range(self.hidden_cnt):\n",
    "            self.hidden_mid_before_active.append(None)\n",
    "            self.hidden_mid_after_active.append(None)\n",
    "        self.batch_size = data.shape[0]\n",
    "        self.in_layer = data\n",
    "        self.hidden_layer_before_active = self.in_layer @ self.weight_in_hid + self.bias_hid\n",
    "        self.hidden_layer = sigmoid(self.hidden_layer_before_active)\n",
    "        # 第一层特殊处理\n",
    "        self.hidden_mid_before_active[0]=self.hidden_layer @ self.hidden_mid_weight[0] + self.hidden_mid_bias[0]\n",
    "        self.hidden_mid_after_active[0]=self.hidden_mid_before_active[0]\n",
    "        \n",
    "        i = int(1)\n",
    "        while i < self.hidden_cnt:\n",
    "            self.hidden_mid_before_active[i]=self.hidden_mid_after_active[i-1]@self.hidden_mid_weight[i] + self.hidden_mid_bias[i]\n",
    "            self.hidden_mid_after_active[i]=sigmoid(self.hidden_mid_before_active[i])\n",
    "            i = i + 1\n",
    "        assert len(self.hidden_mid_before_active) == self.hidden_cnt,'error hidden'\n",
    "        self.out_layer = self.hidden_mid_after_active[self.hidden_cnt-1] @ self.weight_hid_out + self.bias_out\n",
    "        return self.out_layer\n",
    "\n",
    "    def backward(self, label):\n",
    "        loss = ((self.out_layer - label) * (self.out_layer - label)).mean()\n",
    "        error_out = (self.out_layer - label)\n",
    "        self.weight_hid_out,self.bias_out,pre_before=backward_layer_and_get_before_active(\n",
    "                        forward_pre_layer_before_active=self.hidden_mid_before_active[self.hidden_cnt - 1]\n",
    "                       ,forward_pre_layer_after_active=self.hidden_mid_after_active[self.hidden_cnt - 1]\n",
    "                       ,backward_error_next_layer_before_active=error_out\n",
    "                       ,weight=self.weight_hid_out\n",
    "                       ,bias=self.bias_out\n",
    "                       ,batch=self.batch_size\n",
    "                       ,lr=self.learn_rate\n",
    "        )\n",
    "        i = self.hidden_cnt - 1\n",
    "        while i > 0:\n",
    "            self.hidden_mid_weight[i],self.hidden_mid_bias[i],pre_before=backward_layer_and_get_before_active(\n",
    "                            forward_pre_layer_before_active=self.hidden_mid_before_active[i - 1]\n",
    "                           ,forward_pre_layer_after_active=self.hidden_mid_after_active[i - 1]\n",
    "                           ,backward_error_next_layer_before_active=pre_before\n",
    "                           ,weight=self.hidden_mid_weight[i]\n",
    "                           ,bias=self.hidden_mid_bias[i]\n",
    "                           ,batch=self.batch_size\n",
    "                           ,lr=self.learn_rate,debug=False)\n",
    "            i = i - 1\n",
    "            \n",
    "        self.hidden_mid_weight[0],self.hidden_mid_bias[0],pre_before=backward_layer_and_get_before_active(\n",
    "                            forward_pre_layer_before_active=self.hidden_layer_before_active\n",
    "                           ,forward_pre_layer_after_active=self.hidden_layer\n",
    "                           ,backward_error_next_layer_before_active=pre_before\n",
    "                           ,weight=self.hidden_mid_weight[0]\n",
    "                           ,bias=self.hidden_mid_bias[0]\n",
    "                           ,batch=self.batch_size\n",
    "                           ,lr=self.learn_rate,\n",
    "                            debug=False\n",
    "        )\n",
    "        self.weight_in_hid,self.bias_hid,_=backward_layer_and_get_before_active(\n",
    "                            forward_pre_layer_before_active=self.in_layer\n",
    "                           ,forward_pre_layer_after_active=self.in_layer\n",
    "                           ,backward_error_next_layer_before_active=pre_before\n",
    "                           ,weight=self.weight_in_hid\n",
    "                           ,bias=self.bias_hid\n",
    "                           ,batch=self.batch_size\n",
    "                           ,lr=self.learn_rate\n",
    "        )\n",
    "        return loss\n",
    "\n",
    "    def train(self, data, label, step=10000):\n",
    "        loss_array = []\n",
    "        for i in range(step):\n",
    "            self.forward(data)\n",
    "#             print(self.backward(label).shape)\n",
    "            ll = self.backward(label)\n",
    "            loss_array.append(ll)\n",
    "#             print(ll)\n",
    "        return np.array(loss_array)\n"
   ]
  },
  {
   "cell_type": "code",
   "execution_count": 146,
   "metadata": {},
   "outputs": [
    {
     "data": {
      "image/png": "[encoded data removed]",
      "text/plain": [
       "<Figure size 432x288 with 1 Axes>"
      ]
     },
     "metadata": {
      "needs_background": "light"
     },
     "output_type": "display_data"
    }
   ],
   "source": [
    "bp = BP(1, 4, 1, 2,learn_rate=0.01)\n",
    "data = np.linspace(-2, 2, 60)\n",
    "data.shape = 60, 1\n",
    "loss = bp.train(data, np.sin(data), step=2000)\n",
    "plt.title('loss_function')\n",
    "plt.plot(loss)\n",
    "plt.show()"
   ]
  },
  {
   "cell_type": "code",
   "execution_count": 147,
   "metadata": {},
   "outputs": [
    {
     "data": {
      "image/png": "[encoded data removed]",
      "text/plain": [
       "<Figure size 432x288 with 1 Axes>"
      ]
     },
     "metadata": {
      "needs_background": "light"
     },
     "output_type": "display_data"
    }
   ],
   "source": [
    "plt.plot(data, np.sin(data))\n",
    "plt.scatter(data, bp.forward(data),color='r')\n",
    "plt.title('Regression: y = sin(x)')\n",
    "plt.show()"
   ]
  },
  {
   "cell_type": "code",
   "execution_count": 131,
   "metadata": {},
   "outputs": [
    {
     "data": {
      "image/png": "[encoded data removed]",
      "text/plain": [
       "<Figure size 432x288 with 1 Axes>"
      ]
     },
     "metadata": {
      "needs_background": "light"
     },
     "output_type": "display_data"
    }
   ],
   "source": [
    "bp2 = BP(1, 4, 1,2,learn_rate=0.01)\n",
    "data = np.linspace(-2, 2, 40)\n",
    "data.shape = 40, 1\n",
    "loss = bp2.train(data, data * data)\n",
    "plt.title('loss_function')\n",
    "plt.plot(loss)\n",
    "plt.show()"
   ]
  },
  {
   "cell_type": "code",
   "execution_count": 132,
   "metadata": {},
   "outputs": [
    {
     "data": {
      "image/png": "[encoded data removed]",
      "text/plain": [
       "<Figure size 432x288 with 1 Axes>"
      ]
     },
     "metadata": {
      "needs_background": "light"
     },
     "output_type": "display_data"
    }
   ],
   "source": [
    "plt.plot(data, data * data)\n",
    "plt.scatter(data, bp2.forward(data))\n",
    "plt.title(\"Regression y = x^2\")\n",
    "plt.show()"
   ]
  },
  {
   "cell_type": "code",
   "execution_count": 137,
   "metadata": {},
   "outputs": [
    {
     "name": "stdout",
     "output_type": "stream",
     "text": [
      "x1 [0.         0.1025641  0.20512821 0.30769231 0.41025641 0.51282051\n",
      " 0.61538462 0.71794872 0.82051282 0.92307692 1.02564103 1.12820513\n",
      " 1.23076923 1.33333333 1.43589744 1.53846154 1.64102564 1.74358974\n",
      " 1.84615385 1.94871795]\n",
      "x2 [0.05128205 0.15384615 0.25641026 0.35897436 0.46153846 0.56410256\n",
      " 0.66666667 0.76923077 0.87179487 0.97435897 1.07692308 1.17948718\n",
      " 1.28205128 1.38461538 1.48717949 1.58974359 1.69230769 1.79487179\n",
      " 1.8974359  2.        ]\n"
     ]
    }
   ],
   "source": [
    "bp3 = BP(2, 4, 1, 1,learn_rate=0.01)\n",
    "data = np.linspace(0, 2, 40)\n",
    "data.shape = -1, 2\n",
    "label = np.sum(data, axis=1)\n",
    "label.shape = -1, 1\n",
    "sequence = np.linspace(0, 20, 20)\n",
    "loss = bp3.train(data, label, step=1000)\n",
    "print('x1',data[:,0])\n",
    "print('x2',data[:,1])\n",
    "# print('x1+x2',label)"
   ]
  },
  {
   "cell_type": "code",
   "execution_count": 138,
   "metadata": {},
   "outputs": [
    {
     "data": {
      "image/png": "[encoded data removed]",
      "text/plain": [
       "<Figure size 432x288 with 1 Axes>"
      ]
     },
     "metadata": {
      "needs_background": "light"
     },
     "output_type": "display_data"
    }
   ],
   "source": [
    "plt.title('loss_function')\n",
    "plt.plot(loss)\n",
    "plt.show()"
   ]
  },
  {
   "cell_type": "code",
   "execution_count": 139,
   "metadata": {},
   "outputs": [
    {
     "data": {
      "image/png": "[encoded data removed]",
      "text/plain": [
       "<Figure size 432x288 with 1 Axes>"
      ]
     },
     "metadata": {
      "needs_background": "light"
     },
     "output_type": "display_data"
    }
   ],
   "source": [
    "plt.plot(sequence, label)\n",
    "plt.scatter(sequence, bp3.forward(data),color = 'r')\n",
    "plt.title('Regression: x1 + x2')\n",
    "plt.show()"
   ]
  }
 ],
 "metadata": {
  "kernelspec": {
   "display_name": "Python 3",
   "language": "python",
   "name": "python3"
  },
  "language_info": {
   "codemirror_mode": {
    "name": "ipython",
    "version": 3
   },
   "file_extension": ".py",
   "mimetype": "text/x-python",
   "name": "python",
   "nbconvert_exporter": "python",
   "pygments_lexer": "ipython3",
   "version": "3.7.2"
  }
 },
 "nbformat": 4,
 "nbformat_minor": 2
}
